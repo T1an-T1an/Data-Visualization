{
  "cells": [
    {
      "attachments": {},
      "cell_type": "markdown",
      "metadata": {},
      "source": [
        "# Exploratory Data Analysis and Data Prep in Spark\n",
        "\n",
        "In this workbook, you will use one year of data of the NYC Taxi Dataset that is publicly available on Azure. The year is 2015 and the 12 files represent about 21GB of data\n",
        "\n",
        "**You may use the DataFrame API, the SparkSQL API, or both as you wish as long as it produces the expected results.**\n",
        "\n",
        "It is recommended to make small versions of the dataset for testing purposes so that you can trial and error faster. Run a command similar to `df_small = df.limit(10000)`\n",
        "\n",
        "Make sure you use your [PySparkSQL Cheat Sheet](https://s3.amazonaws.com/assets.datacamp.com/blog_assets/PySpark_SQL_Cheat_Sheet_Python.pdf) to help you with the commands to complete the assignment.\n",
        "\n",
        "Instructions:\n",
        "\n",
        "1. Read in the data \n",
        "\n",
        "\n",
        "2. Execute initial data exploration\n",
        "    - Determine the shape of the data, column names, data types\n",
        "    - Check for the number of missing values within critical fields of the dataset: `tpep_pickup_datetime`, `tpep_dropoff_datetime`, `passenger_count`, `trip_distance`, and `fare_amount`. There is a `count` command to use with columns in a dataframe and several ways to check for missing values. Try Googling some options!\n",
        "    - Check the counts for values of passenger_count and remove any outlier values (how many people fit into a taxi?). Only include positive integers up to and including 6. Justify your analytical decision. You can use the `.isin()` method to create boolean values from a column ([see here](https://spark.apache.org/docs/3.1.1/api/python/reference/api/pyspark.sql.Column.isin.html)).\n",
        "\n",
        "\n",
        "3. Convert fields types \n",
        "    \n",
        "    Conver the following fields to the specified data types. You must do this becasue the fields were read in as string (unless you specified the schema at read time.)    \n",
        "    * `tpep_pickup_datetime` and `tpep_dropoff_datetime` must be TIMESTAMP\n",
        "    * `passenger_count` and `rate_code` must be INT\n",
        "    * all other numeric fields must be FLOAT\n",
        "    * the remaining fields stay as STRING\n",
        "\n",
        "\n",
        "4. Create new variables for:\n",
        "    * indicating if `tpep_pickup_datetime` happens on a weekend or not\n",
        "    * indicating if `tpep_pickup_datetime` is within the weekday rush hour (6:00-9:59am, 2:00-5:59pm) or not\n",
        "    * indicating if the `tip_amount` is greater than 10% of the fare_amount or not\n",
        "\n",
        "\n",
        "5. Report the average, median, Q25, and Q75 fare amount in a table conditioned on the variables you created. Each table should look like the example below, though your numbers might not match exactly.\n",
        "\n",
        "\n",
        " |  weekdayrush_dummy  |mean_fare  |Q25|  median|   Q75|  num_rides|\n",
        "|----------------------|-----------|---|--------|------|-----------|\n",
        "|True     |12.462  |6.5     |9.0  |14.0   |44848941|\n",
        "|False     |12.312  |6.5     |9.5  |14.0  |128336134|\n",
        "       \n",
        "You are welcome to add as many cells as you need. Clearly indicate in your notebook each step so graders can confirm you have accomplished each task. **You must include comments in your code.**"
      ]
    },
    {
      "cell_type": "code",
      "execution_count": 1,
      "metadata": {
        "gather": {
          "logged": 1697515204760
        }
      },
      "outputs": [
        {
          "data": {
            "application/vnd.livy.statement-meta+json": {
              "execution_finish_time": "2023-10-17T04:00:04.7022864Z",
              "execution_start_time": "2023-10-17T04:00:04.2620253Z",
              "livy_statement_state": "available",
              "parent_msg_id": "b4c69772-feb8-4c9a-8c60-dd26dbb610e8",
              "queued_time": "2023-10-17T03:59:11.7919547Z",
              "session_id": "14",
              "session_start_time": "2023-10-17T03:59:11.7932235Z",
              "spark_jobs": {
                "jobs": [],
                "limit": 20,
                "numbers": {
                  "FAILED": 0,
                  "RUNNING": 0,
                  "SUCCEEDED": 0,
                  "UNKNOWN": 0
                },
                "rule": "ALL_DESC"
              },
              "spark_pool": "70d4139e-3496-47df-9fd8-bcdeb57818f4",
              "state": "finished",
              "statement_id": 6
            },
            "text/plain": [
              "StatementMeta(70d4139e-3496-47df-9fd8-bcdeb57818f4, 14, 6, Finished, Available)"
            ]
          },
          "metadata": {},
          "output_type": "display_data"
        },
        {
          "data": {
            "text/html": [
              "\n",
              "            <div>\n",
              "                <p><b>SparkSession - hive</b></p>\n",
              "                \n",
              "        <div>\n",
              "            <p><b>SparkContext</b></p>\n",
              "\n",
              "            <p><a href=\"http://vm-45c53134:43147\">Spark UI</a></p>\n",
              "\n",
              "            <dl>\n",
              "              <dt>Version</dt>\n",
              "                <dd><code>v3.2.2.5.1-100879434</code></dd>\n",
              "              <dt>Master</dt>\n",
              "                <dd><code>yarn</code></dd>\n",
              "              <dt>AppName</dt>\n",
              "                <dd><code>Azure ML Experiment</code></dd>\n",
              "            </dl>\n",
              "        </div>\n",
              "        \n",
              "            </div>\n",
              "        "
            ],
            "text/plain": [
              "<pyspark.sql.session.SparkSession at 0x7f1714272970>"
            ]
          },
          "execution_count": 11,
          "metadata": {},
          "output_type": "execute_result"
        }
      ],
      "source": [
        "spark"
      ]
    },
    {
      "cell_type": "code",
      "execution_count": 2,
      "metadata": {
        "gather": {
          "logged": 1697515205173
        },
        "jupyter": {
          "outputs_hidden": false,
          "source_hidden": false
        },
        "nteract": {
          "transient": {
            "deleting": false
          }
        }
      },
      "outputs": [
        {
          "data": {
            "application/vnd.livy.statement-meta+json": {
              "execution_finish_time": "2023-10-17T04:00:05.1589733Z",
              "execution_start_time": "2023-10-17T04:00:04.7806141Z",
              "livy_statement_state": "available",
              "parent_msg_id": "ec46ef5d-c156-438f-b441-0321f5c2ecab",
              "queued_time": "2023-10-17T03:59:11.7927339Z",
              "session_id": "14",
              "session_start_time": null,
              "spark_jobs": {
                "jobs": [],
                "limit": 20,
                "numbers": {
                  "FAILED": 0,
                  "RUNNING": 0,
                  "SUCCEEDED": 0,
                  "UNKNOWN": 0
                },
                "rule": "ALL_DESC"
              },
              "spark_pool": "70d4139e-3496-47df-9fd8-bcdeb57818f4",
              "state": "finished",
              "statement_id": 7
            },
            "text/plain": [
              "StatementMeta(70d4139e-3496-47df-9fd8-bcdeb57818f4, 14, 7, Finished, Available)"
            ]
          },
          "metadata": {},
          "output_type": "display_data"
        },
        {
          "data": {
            "text/html": [
              "\n",
              "        <div>\n",
              "            <p><b>SparkContext</b></p>\n",
              "\n",
              "            <p><a href=\"http://vm-45c53134:43147\">Spark UI</a></p>\n",
              "\n",
              "            <dl>\n",
              "              <dt>Version</dt>\n",
              "                <dd><code>v3.2.2.5.1-100879434</code></dd>\n",
              "              <dt>Master</dt>\n",
              "                <dd><code>yarn</code></dd>\n",
              "              <dt>AppName</dt>\n",
              "                <dd><code>Azure ML Experiment</code></dd>\n",
              "            </dl>\n",
              "        </div>\n",
              "        "
            ],
            "text/plain": [
              "<SparkContext master=yarn appName=Azure ML Experiment>"
            ]
          },
          "execution_count": 13,
          "metadata": {},
          "output_type": "execute_result"
        }
      ],
      "source": [
        "sc"
      ]
    },
    {
      "attachments": {},
      "cell_type": "markdown",
      "metadata": {},
      "source": [
        "### Step 1: Read in the data"
      ]
    },
    {
      "cell_type": "code",
      "execution_count": 3,
      "metadata": {
        "gather": {
          "logged": 1697515205620
        },
        "jupyter": {
          "outputs_hidden": false,
          "source_hidden": false
        },
        "nteract": {
          "transient": {
            "deleting": false
          }
        }
      },
      "outputs": [
        {
          "data": {
            "application/vnd.livy.statement-meta+json": {
              "execution_finish_time": "2023-10-17T04:00:05.6125725Z",
              "execution_start_time": "2023-10-17T04:00:05.2328702Z",
              "livy_statement_state": "available",
              "parent_msg_id": "f6775025-7200-4935-888c-b361842507f2",
              "queued_time": "2023-10-17T03:59:11.793451Z",
              "session_id": "14",
              "session_start_time": null,
              "spark_jobs": {
                "jobs": [],
                "limit": 20,
                "numbers": {
                  "FAILED": 0,
                  "RUNNING": 0,
                  "SUCCEEDED": 0,
                  "UNKNOWN": 0
                },
                "rule": "ALL_DESC"
              },
              "spark_pool": "70d4139e-3496-47df-9fd8-bcdeb57818f4",
              "state": "finished",
              "statement_id": 8
            },
            "text/plain": [
              "StatementMeta(70d4139e-3496-47df-9fd8-bcdeb57818f4, 14, 8, Finished, Available)"
            ]
          },
          "metadata": {},
          "output_type": "display_data"
        }
      ],
      "source": [
        "taxi_filepath = \"wasbs://datasets@azuremlexamples.blob.core.windows.net/nyctaxi/*.csv\""
      ]
    },
    {
      "attachments": {},
      "cell_type": "markdown",
      "metadata": {
        "nteract": {
          "transient": {
            "deleting": false
          }
        }
      },
      "source": [
        "Load and cache the 12 CSV files (with header) and cache the Spark DataFrame."
      ]
    },
    {
      "cell_type": "code",
      "execution_count": 4,
      "metadata": {
        "gather": {
          "logged": 1697515214517
        }
      },
      "outputs": [
        {
          "data": {
            "application/vnd.livy.statement-meta+json": {
              "execution_finish_time": "2023-10-17T04:00:14.5055761Z",
              "execution_start_time": "2023-10-17T04:00:05.682363Z",
              "livy_statement_state": "available",
              "parent_msg_id": "7d9b57a3-69f5-424d-b48f-d8b3d801ef2e",
              "queued_time": "2023-10-17T03:59:11.7942235Z",
              "session_id": "14",
              "session_start_time": null,
              "spark_jobs": {
                "jobs": [
                  {
                    "completionTime": "2023-10-17T04:00:13.580GMT",
                    "dataRead": 65536,
                    "dataWritten": 0,
                    "description": "Job group for statement 9:\ntaxi_df = spark.read.option(\"header\", \"true\").csv(taxi_filepath)",
                    "displayName": "csv at NativeMethodAccessorImpl.java:0",
                    "jobGroup": "9",
                    "jobId": 0,
                    "killedTasksSummary": {},
                    "name": "csv at NativeMethodAccessorImpl.java:0",
                    "numActiveStages": 0,
                    "numActiveTasks": 0,
                    "numCompletedIndices": 1,
                    "numCompletedStages": 1,
                    "numCompletedTasks": 1,
                    "numFailedStages": 0,
                    "numFailedTasks": 0,
                    "numKilledTasks": 0,
                    "numSkippedStages": 0,
                    "numSkippedTasks": 0,
                    "numTasks": 1,
                    "rowCount": 1,
                    "stageIds": [
                      0
                    ],
                    "status": "SUCCEEDED",
                    "submissionTime": "2023-10-17T04:00:10.237GMT",
                    "usageDescription": ""
                  }
                ],
                "limit": 20,
                "numbers": {
                  "FAILED": 0,
                  "RUNNING": 0,
                  "SUCCEEDED": 1,
                  "UNKNOWN": 0
                },
                "rule": "ALL_DESC"
              },
              "spark_pool": "70d4139e-3496-47df-9fd8-bcdeb57818f4",
              "state": "finished",
              "statement_id": 9
            },
            "text/plain": [
              "StatementMeta(70d4139e-3496-47df-9fd8-bcdeb57818f4, 14, 9, Finished, Available)"
            ]
          },
          "metadata": {},
          "output_type": "display_data"
        }
      ],
      "source": [
        "taxi_df = spark.read.option(\"header\", \"true\").csv(taxi_filepath)"
      ]
    },
    {
      "cell_type": "code",
      "execution_count": 5,
      "metadata": {
        "gather": {
          "logged": 1697515214996
        },
        "jupyter": {
          "outputs_hidden": false,
          "source_hidden": false
        },
        "nteract": {
          "transient": {
            "deleting": false
          }
        }
      },
      "outputs": [
        {
          "data": {
            "application/vnd.livy.statement-meta+json": {
              "execution_finish_time": "2023-10-17T04:00:14.9646229Z",
              "execution_start_time": "2023-10-17T04:00:14.6020603Z",
              "livy_statement_state": "available",
              "parent_msg_id": "88dae84d-2e00-4e59-ab26-83286344326b",
              "queued_time": "2023-10-17T03:59:11.7949308Z",
              "session_id": "14",
              "session_start_time": null,
              "spark_jobs": {
                "jobs": [],
                "limit": 20,
                "numbers": {
                  "FAILED": 0,
                  "RUNNING": 0,
                  "SUCCEEDED": 0,
                  "UNKNOWN": 0
                },
                "rule": "ALL_DESC"
              },
              "spark_pool": "70d4139e-3496-47df-9fd8-bcdeb57818f4",
              "state": "finished",
              "statement_id": 10
            },
            "text/plain": [
              "StatementMeta(70d4139e-3496-47df-9fd8-bcdeb57818f4, 14, 10, Finished, Available)"
            ]
          },
          "metadata": {},
          "output_type": "display_data"
        },
        {
          "data": {
            "text/plain": [
              "DataFrame[VendorID: string, tpep_pickup_datetime: string, tpep_dropoff_datetime: string, passenger_count: string, trip_distance: string, pickup_longitude: string, pickup_latitude: string, RatecodeID: string, store_and_fwd_flag: string, dropoff_longitude: string, dropoff_latitude: string, payment_type: string, fare_amount: string, extra: string, mta_tax: string, tip_amount: string, tolls_amount: string, improvement_surcharge: string, total_amount: string]"
            ]
          },
          "execution_count": 19,
          "metadata": {},
          "output_type": "execute_result"
        }
      ],
      "source": [
        "taxi_df.cache()"
      ]
    },
    {
      "attachments": {},
      "cell_type": "markdown",
      "metadata": {},
      "source": [
        "### Step 2: Exploratory data analysis"
      ]
    },
    {
      "cell_type": "code",
      "execution_count": 6,
      "metadata": {
        "gather": {
          "logged": 1697515757729
        }
      },
      "outputs": [
        {
          "data": {
            "application/vnd.livy.statement-meta+json": {
              "execution_finish_time": "2023-10-17T04:09:17.6039427Z",
              "execution_start_time": "2023-10-17T04:00:15.039145Z",
              "livy_statement_state": "available",
              "parent_msg_id": "622c01db-ac14-4689-b003-6d2fe67c0511",
              "queued_time": "2023-10-17T03:59:11.7957949Z",
              "session_id": "14",
              "session_start_time": null,
              "spark_jobs": {
                "jobs": [
                  {
                    "completionTime": "2023-10-17T04:09:15.841GMT",
                    "dataRead": 10205,
                    "dataWritten": 0,
                    "description": "Job group for statement 11:\nprint(\"dats count(Number of rows):\", taxi_df.count())",
                    "displayName": "count at NativeMethodAccessorImpl.java:0",
                    "jobGroup": "11",
                    "jobId": 2,
                    "killedTasksSummary": {},
                    "name": "count at NativeMethodAccessorImpl.java:0",
                    "numActiveStages": 0,
                    "numActiveTasks": 0,
                    "numCompletedIndices": 1,
                    "numCompletedStages": 1,
                    "numCompletedTasks": 1,
                    "numFailedStages": 0,
                    "numFailedTasks": 0,
                    "numKilledTasks": 0,
                    "numSkippedStages": 1,
                    "numSkippedTasks": 173,
                    "numTasks": 174,
                    "rowCount": 173,
                    "stageIds": [
                      2,
                      3
                    ],
                    "status": "SUCCEEDED",
                    "submissionTime": "2023-10-17T04:09:15.583GMT",
                    "usageDescription": ""
                  },
                  {
                    "completionTime": "2023-10-17T04:09:15.493GMT",
                    "dataRead": 22889281493,
                    "dataWritten": 10205,
                    "description": "Job group for statement 11:\nprint(\"dats count(Number of rows):\", taxi_df.count())",
                    "displayName": "count at NativeMethodAccessorImpl.java:0",
                    "jobGroup": "11",
                    "jobId": 1,
                    "killedTasksSummary": {},
                    "name": "count at NativeMethodAccessorImpl.java:0",
                    "numActiveStages": 0,
                    "numActiveTasks": 0,
                    "numCompletedIndices": 173,
                    "numCompletedStages": 1,
                    "numCompletedTasks": 173,
                    "numFailedStages": 0,
                    "numFailedTasks": 0,
                    "numKilledTasks": 0,
                    "numSkippedStages": 0,
                    "numSkippedTasks": 0,
                    "numTasks": 173,
                    "rowCount": 146113162,
                    "stageIds": [
                      1
                    ],
                    "status": "SUCCEEDED",
                    "submissionTime": "2023-10-17T04:00:15.450GMT",
                    "usageDescription": ""
                  }
                ],
                "limit": 20,
                "numbers": {
                  "FAILED": 0,
                  "RUNNING": 0,
                  "SUCCEEDED": 2,
                  "UNKNOWN": 0
                },
                "rule": "ALL_DESC"
              },
              "spark_pool": "70d4139e-3496-47df-9fd8-bcdeb57818f4",
              "state": "finished",
              "statement_id": 11
            },
            "text/plain": [
              "StatementMeta(70d4139e-3496-47df-9fd8-bcdeb57818f4, 14, 11, Finished, Available)"
            ]
          },
          "metadata": {},
          "output_type": "display_data"
        },
        {
          "name": "stdout",
          "output_type": "stream",
          "text": [
            "dats count(Number of rows): 146112989\n"
          ]
        }
      ],
      "source": [
        "print(\"dats count(Number of rows):\", taxi_df.count())"
      ]
    },
    {
      "cell_type": "code",
      "execution_count": 7,
      "metadata": {
        "gather": {
          "logged": 1697515758222
        },
        "jupyter": {
          "outputs_hidden": false,
          "source_hidden": false
        },
        "nteract": {
          "transient": {
            "deleting": false
          }
        }
      },
      "outputs": [
        {
          "data": {
            "application/vnd.livy.statement-meta+json": {
              "execution_finish_time": "2023-10-17T04:09:18.0914615Z",
              "execution_start_time": "2023-10-17T04:09:17.6759603Z",
              "livy_statement_state": "available",
              "parent_msg_id": "20207ffc-3ea1-45d7-8a91-3914db791be1",
              "queued_time": "2023-10-17T03:59:11.7965812Z",
              "session_id": "14",
              "session_start_time": null,
              "spark_jobs": {
                "jobs": [],
                "limit": 20,
                "numbers": {
                  "FAILED": 0,
                  "RUNNING": 0,
                  "SUCCEEDED": 0,
                  "UNKNOWN": 0
                },
                "rule": "ALL_DESC"
              },
              "spark_pool": "70d4139e-3496-47df-9fd8-bcdeb57818f4",
              "state": "finished",
              "statement_id": 12
            },
            "text/plain": [
              "StatementMeta(70d4139e-3496-47df-9fd8-bcdeb57818f4, 14, 12, Finished, Available)"
            ]
          },
          "metadata": {},
          "output_type": "display_data"
        },
        {
          "name": "stdout",
          "output_type": "stream",
          "text": [
            "Number of columns: 19\n"
          ]
        }
      ],
      "source": [
        "print(\"Number of columns:\", len(taxi_df.columns))"
      ]
    },
    {
      "cell_type": "code",
      "execution_count": 8,
      "metadata": {
        "gather": {
          "logged": 1697515758577
        }
      },
      "outputs": [
        {
          "data": {
            "application/vnd.livy.statement-meta+json": {
              "execution_finish_time": "2023-10-17T04:09:18.5228033Z",
              "execution_start_time": "2023-10-17T04:09:18.1649328Z",
              "livy_statement_state": "available",
              "parent_msg_id": "a513c47d-40ed-4392-9841-e42d38e7c9ac",
              "queued_time": "2023-10-17T03:59:11.7973784Z",
              "session_id": "14",
              "session_start_time": null,
              "spark_jobs": {
                "jobs": [],
                "limit": 20,
                "numbers": {
                  "FAILED": 0,
                  "RUNNING": 0,
                  "SUCCEEDED": 0,
                  "UNKNOWN": 0
                },
                "rule": "ALL_DESC"
              },
              "spark_pool": "70d4139e-3496-47df-9fd8-bcdeb57818f4",
              "state": "finished",
              "statement_id": 13
            },
            "text/plain": [
              "StatementMeta(70d4139e-3496-47df-9fd8-bcdeb57818f4, 14, 13, Finished, Available)"
            ]
          },
          "metadata": {},
          "output_type": "display_data"
        },
        {
          "name": "stdout",
          "output_type": "stream",
          "text": [
            "Column names: ['VendorID', 'tpep_pickup_datetime', 'tpep_dropoff_datetime', 'passenger_count', 'trip_distance', 'pickup_longitude', 'pickup_latitude', 'RatecodeID', 'store_and_fwd_flag', 'dropoff_longitude', 'dropoff_latitude', 'payment_type', 'fare_amount', 'extra', 'mta_tax', 'tip_amount', 'tolls_amount', 'improvement_surcharge', 'total_amount']\n"
          ]
        }
      ],
      "source": [
        "print(\"Column names:\", taxi_df.columns)"
      ]
    },
    {
      "cell_type": "code",
      "execution_count": 9,
      "metadata": {
        "gather": {
          "logged": 1697515759043
        }
      },
      "outputs": [
        {
          "data": {
            "application/vnd.livy.statement-meta+json": {
              "execution_finish_time": "2023-10-17T04:09:18.945309Z",
              "execution_start_time": "2023-10-17T04:09:18.594369Z",
              "livy_statement_state": "available",
              "parent_msg_id": "cdb66f6b-6e08-403d-bb73-bb70841596a2",
              "queued_time": "2023-10-17T03:59:11.7981559Z",
              "session_id": "14",
              "session_start_time": null,
              "spark_jobs": {
                "jobs": [],
                "limit": 20,
                "numbers": {
                  "FAILED": 0,
                  "RUNNING": 0,
                  "SUCCEEDED": 0,
                  "UNKNOWN": 0
                },
                "rule": "ALL_DESC"
              },
              "spark_pool": "70d4139e-3496-47df-9fd8-bcdeb57818f4",
              "state": "finished",
              "statement_id": 14
            },
            "text/plain": [
              "StatementMeta(70d4139e-3496-47df-9fd8-bcdeb57818f4, 14, 14, Finished, Available)"
            ]
          },
          "metadata": {},
          "output_type": "display_data"
        },
        {
          "name": "stdout",
          "output_type": "stream",
          "text": [
            "root\n",
            " |-- VendorID: string (nullable = true)\n",
            " |-- tpep_pickup_datetime: string (nullable = true)\n",
            " |-- tpep_dropoff_datetime: string (nullable = true)\n",
            " |-- passenger_count: string (nullable = true)\n",
            " |-- trip_distance: string (nullable = true)\n",
            " |-- pickup_longitude: string (nullable = true)\n",
            " |-- pickup_latitude: string (nullable = true)\n",
            " |-- RatecodeID: string (nullable = true)\n",
            " |-- store_and_fwd_flag: string (nullable = true)\n",
            " |-- dropoff_longitude: string (nullable = true)\n",
            " |-- dropoff_latitude: string (nullable = true)\n",
            " |-- payment_type: string (nullable = true)\n",
            " |-- fare_amount: string (nullable = true)\n",
            " |-- extra: string (nullable = true)\n",
            " |-- mta_tax: string (nullable = true)\n",
            " |-- tip_amount: string (nullable = true)\n",
            " |-- tolls_amount: string (nullable = true)\n",
            " |-- improvement_surcharge: string (nullable = true)\n",
            " |-- total_amount: string (nullable = true)\n",
            "\n"
          ]
        }
      ],
      "source": [
        "taxi_df.printSchema()"
      ]
    },
    {
      "cell_type": "code",
      "execution_count": 10,
      "metadata": {
        "gather": {
          "logged": 1697515771782
        }
      },
      "outputs": [
        {
          "data": {
            "application/vnd.livy.statement-meta+json": {
              "execution_finish_time": "2023-10-17T04:09:31.6921629Z",
              "execution_start_time": "2023-10-17T04:09:19.0268727Z",
              "livy_statement_state": "available",
              "parent_msg_id": "a49cc3b2-0f17-4267-b524-723522720a3c",
              "queued_time": "2023-10-17T03:59:11.7989535Z",
              "session_id": "14",
              "session_start_time": null,
              "spark_jobs": {
                "jobs": [
                  {
                    "completionTime": "2023-10-17T04:09:30.787GMT",
                    "dataRead": 9861,
                    "dataWritten": 0,
                    "description": "Job group for statement 15:\nfrom pyspark.sql.functions import col, sum, when\n\nchecked_cols = ['tpep_pickup_datetime', 'tpep_dropoff_datetime', 'passenger_count', 'trip_distance', 'fare_amount']\n\n#check each checked_cols\n#I asked LLM to show this method\nconditions = [sum(when(col(field).isNull() | (col(field) == \"\"), 1).otherwise(0)).alias(field) for field in checked_cols]\n\n#aggregate the df using\nmissing_counts = taxi_df.agg(*conditions).collect()\n\n#check reslut\nmissing_counts_row = missing_counts[0]\nmissing_counts_row",
                    "displayName": "collect at /tmp/ipykernel_893/439826751.py:10",
                    "jobGroup": "15",
                    "jobId": 4,
                    "killedTasksSummary": {},
                    "name": "collect at /tmp/ipykernel_893/439826751.py:10",
                    "numActiveStages": 0,
                    "numActiveTasks": 0,
                    "numCompletedIndices": 1,
                    "numCompletedStages": 1,
                    "numCompletedTasks": 1,
                    "numFailedStages": 0,
                    "numFailedTasks": 0,
                    "numKilledTasks": 0,
                    "numSkippedStages": 1,
                    "numSkippedTasks": 173,
                    "numTasks": 174,
                    "rowCount": 173,
                    "stageIds": [
                      5,
                      6
                    ],
                    "status": "SUCCEEDED",
                    "submissionTime": "2023-10-17T04:09:30.638GMT",
                    "usageDescription": ""
                  },
                  {
                    "completionTime": "2023-10-17T04:09:30.550GMT",
                    "dataRead": 17000272992,
                    "dataWritten": 9861,
                    "description": "Job group for statement 15:\nfrom pyspark.sql.functions import col, sum, when\n\nchecked_cols = ['tpep_pickup_datetime', 'tpep_dropoff_datetime', 'passenger_count', 'trip_distance', 'fare_amount']\n\n#check each checked_cols\n#I asked LLM to show this method\nconditions = [sum(when(col(field).isNull() | (col(field) == \"\"), 1).otherwise(0)).alias(field) for field in checked_cols]\n\n#aggregate the df using\nmissing_counts = taxi_df.agg(*conditions).collect()\n\n#check reslut\nmissing_counts_row = missing_counts[0]\nmissing_counts_row",
                    "displayName": "collect at /tmp/ipykernel_893/439826751.py:10",
                    "jobGroup": "15",
                    "jobId": 3,
                    "killedTasksSummary": {},
                    "name": "collect at /tmp/ipykernel_893/439826751.py:10",
                    "numActiveStages": 0,
                    "numActiveTasks": 0,
                    "numCompletedIndices": 173,
                    "numCompletedStages": 1,
                    "numCompletedTasks": 173,
                    "numFailedStages": 0,
                    "numFailedTasks": 0,
                    "numKilledTasks": 0,
                    "numSkippedStages": 0,
                    "numSkippedTasks": 0,
                    "numTasks": 173,
                    "rowCount": 14849,
                    "stageIds": [
                      4
                    ],
                    "status": "SUCCEEDED",
                    "submissionTime": "2023-10-17T04:09:19.557GMT",
                    "usageDescription": ""
                  }
                ],
                "limit": 20,
                "numbers": {
                  "FAILED": 0,
                  "RUNNING": 0,
                  "SUCCEEDED": 2,
                  "UNKNOWN": 0
                },
                "rule": "ALL_DESC"
              },
              "spark_pool": "70d4139e-3496-47df-9fd8-bcdeb57818f4",
              "state": "finished",
              "statement_id": 15
            },
            "text/plain": [
              "StatementMeta(70d4139e-3496-47df-9fd8-bcdeb57818f4, 14, 15, Finished, Available)"
            ]
          },
          "metadata": {},
          "output_type": "display_data"
        },
        {
          "data": {
            "text/plain": [
              "Row(tpep_pickup_datetime=0, tpep_dropoff_datetime=0, passenger_count=0, trip_distance=0, fare_amount=0)"
            ]
          },
          "execution_count": 29,
          "metadata": {},
          "output_type": "execute_result"
        }
      ],
      "source": [
        "from pyspark.sql.functions import col, sum, when\n",
        "\n",
        "checked_cols = ['tpep_pickup_datetime', 'tpep_dropoff_datetime', 'passenger_count', 'trip_distance', 'fare_amount']\n",
        "\n",
        "#check each checked_cols\n",
        "#I asked LLM to show this method\n",
        "conditions = [sum(when(col(field).isNull() | (col(field) == \"\"), 1).otherwise(0)).alias(field) for field in checked_cols]\n",
        "\n",
        "#aggregate the df using\n",
        "missing_counts = taxi_df.agg(*conditions).collect()\n",
        "\n",
        "#check reslut\n",
        "missing_counts_row = missing_counts[0]\n",
        "missing_counts_row\n",
        "# There no missing values in these four critical fields"
      ]
    },
    {
      "cell_type": "code",
      "execution_count": 11,
      "metadata": {
        "gather": {
          "logged": 1697515772252
        }
      },
      "outputs": [
        {
          "data": {
            "application/vnd.livy.statement-meta+json": {
              "execution_finish_time": "2023-10-17T04:09:32.144709Z",
              "execution_start_time": "2023-10-17T04:09:31.7662514Z",
              "livy_statement_state": "available",
              "parent_msg_id": "ed2b1b26-aeae-4476-bc3c-0ba48b6ad5ba",
              "queued_time": "2023-10-17T03:59:11.7997795Z",
              "session_id": "14",
              "session_start_time": null,
              "spark_jobs": {
                "jobs": [],
                "limit": 20,
                "numbers": {
                  "FAILED": 0,
                  "RUNNING": 0,
                  "SUCCEEDED": 0,
                  "UNKNOWN": 0
                },
                "rule": "ALL_DESC"
              },
              "spark_pool": "70d4139e-3496-47df-9fd8-bcdeb57818f4",
              "state": "finished",
              "statement_id": 16
            },
            "text/plain": [
              "StatementMeta(70d4139e-3496-47df-9fd8-bcdeb57818f4, 14, 16, Finished, Available)"
            ]
          },
          "metadata": {},
          "output_type": "display_data"
        }
      ],
      "source": [
        "valid_passenger_range = [1, 2, 3, 4, 5, 6]\n",
        "\n",
        "#filter the dataframe: passenger_count <=6\n",
        "taxi_df = taxi_df.filter(col(\"passenger_count\").isin(valid_passenger_range))"
      ]
    },
    {
      "cell_type": "code",
      "execution_count": 12,
      "metadata": {
        "gather": {
          "logged": 1697515773188
        },
        "jupyter": {
          "outputs_hidden": false,
          "source_hidden": false
        },
        "nteract": {
          "transient": {
            "deleting": false
          }
        }
      },
      "outputs": [
        {
          "data": {
            "application/vnd.livy.statement-meta+json": {
              "execution_finish_time": "2023-10-17T04:09:33.114558Z",
              "execution_start_time": "2023-10-17T04:09:32.2161355Z",
              "livy_statement_state": "available",
              "parent_msg_id": "ce6d6c20-a210-4687-972b-dab61e373770",
              "queued_time": "2023-10-17T03:59:11.8006457Z",
              "session_id": "14",
              "session_start_time": null,
              "spark_jobs": {
                "jobs": [
                  {
                    "completionTime": "2023-10-17T04:09:32.828GMT",
                    "dataRead": 107735088,
                    "dataWritten": 0,
                    "description": "Job group for statement 17:\ntaxi_df.take(2)",
                    "displayName": "take at /tmp/ipykernel_893/3448364129.py:1",
                    "jobGroup": "17",
                    "jobId": 5,
                    "killedTasksSummary": {},
                    "name": "take at /tmp/ipykernel_893/3448364129.py:1",
                    "numActiveStages": 0,
                    "numActiveTasks": 0,
                    "numCompletedIndices": 1,
                    "numCompletedStages": 1,
                    "numCompletedTasks": 1,
                    "numFailedStages": 0,
                    "numFailedTasks": 0,
                    "numKilledTasks": 0,
                    "numSkippedStages": 0,
                    "numSkippedTasks": 0,
                    "numTasks": 1,
                    "rowCount": 1,
                    "stageIds": [
                      7
                    ],
                    "status": "SUCCEEDED",
                    "submissionTime": "2023-10-17T04:09:32.354GMT",
                    "usageDescription": ""
                  }
                ],
                "limit": 20,
                "numbers": {
                  "FAILED": 0,
                  "RUNNING": 0,
                  "SUCCEEDED": 1,
                  "UNKNOWN": 0
                },
                "rule": "ALL_DESC"
              },
              "spark_pool": "70d4139e-3496-47df-9fd8-bcdeb57818f4",
              "state": "finished",
              "statement_id": 17
            },
            "text/plain": [
              "StatementMeta(70d4139e-3496-47df-9fd8-bcdeb57818f4, 14, 17, Finished, Available)"
            ]
          },
          "metadata": {},
          "output_type": "display_data"
        },
        {
          "data": {
            "text/plain": [
              "[Row(VendorID='2', tpep_pickup_datetime='2015-01-15 19:05:39', tpep_dropoff_datetime='2015-01-15 19:23:42', passenger_count='1', trip_distance='1.59', pickup_longitude='-73.993896484375', pickup_latitude='40.750110626220703', RatecodeID='1', store_and_fwd_flag='N', dropoff_longitude='-73.974784851074219', dropoff_latitude='40.750617980957031', payment_type='1', fare_amount='12', extra='1', mta_tax='0.5', tip_amount='3.25', tolls_amount='0', improvement_surcharge='0.3', total_amount='17.05'),\n",
              " Row(VendorID='1', tpep_pickup_datetime='2015-01-10 20:33:38', tpep_dropoff_datetime='2015-01-10 20:53:28', passenger_count='1', trip_distance='3.30', pickup_longitude='-74.00164794921875', pickup_latitude='40.7242431640625', RatecodeID='1', store_and_fwd_flag='N', dropoff_longitude='-73.994415283203125', dropoff_latitude='40.759109497070313', payment_type='1', fare_amount='14.5', extra='0.5', mta_tax='0.5', tip_amount='2', tolls_amount='0', improvement_surcharge='0.3', total_amount='17.8')]"
            ]
          },
          "execution_count": 33,
          "metadata": {},
          "output_type": "execute_result"
        }
      ],
      "source": [
        "taxi_df.take(2)"
      ]
    },
    {
      "attachments": {},
      "cell_type": "markdown",
      "metadata": {},
      "source": [
        "### Step 3: Change data types\n",
        "This step can also be integrated into Step 2 merging if using PySparkSQL"
      ]
    },
    {
      "cell_type": "code",
      "execution_count": 13,
      "metadata": {
        "gather": {
          "logged": 1697515773688
        },
        "jupyter": {
          "outputs_hidden": false,
          "source_hidden": false
        },
        "nteract": {
          "transient": {
            "deleting": false
          }
        }
      },
      "outputs": [
        {
          "data": {
            "application/vnd.livy.statement-meta+json": {
              "execution_finish_time": "2023-10-17T04:09:33.5366888Z",
              "execution_start_time": "2023-10-17T04:09:33.1869262Z",
              "livy_statement_state": "available",
              "parent_msg_id": "c1a4eb8c-b114-4f97-ac8f-f1a281e06052",
              "queued_time": "2023-10-17T03:59:11.8014382Z",
              "session_id": "14",
              "session_start_time": null,
              "spark_jobs": {
                "jobs": [],
                "limit": 20,
                "numbers": {
                  "FAILED": 0,
                  "RUNNING": 0,
                  "SUCCEEDED": 0,
                  "UNKNOWN": 0
                },
                "rule": "ALL_DESC"
              },
              "spark_pool": "70d4139e-3496-47df-9fd8-bcdeb57818f4",
              "state": "finished",
              "statement_id": 18
            },
            "text/plain": [
              "StatementMeta(70d4139e-3496-47df-9fd8-bcdeb57818f4, 14, 18, Finished, Available)"
            ]
          },
          "metadata": {},
          "output_type": "display_data"
        }
      ],
      "source": [
        "#convert date related cols to 'timestamp'\n",
        "taxi_df = taxi_df.withColumn(\"tpep_pickup_datetime\", col(\"tpep_pickup_datetime\").cast(\"timestamp\"))\n",
        "taxi_df = taxi_df.withColumn(\"tpep_dropoff_datetime\", col(\"tpep_dropoff_datetime\").cast(\"timestamp\"))"
      ]
    },
    {
      "cell_type": "code",
      "execution_count": 14,
      "metadata": {
        "gather": {
          "logged": 1697515774204
        },
        "jupyter": {
          "outputs_hidden": false,
          "source_hidden": false
        },
        "nteract": {
          "transient": {
            "deleting": false
          }
        }
      },
      "outputs": [
        {
          "data": {
            "application/vnd.livy.statement-meta+json": {
              "execution_finish_time": "2023-10-17T04:09:34.0757135Z",
              "execution_start_time": "2023-10-17T04:09:33.6256328Z",
              "livy_statement_state": "available",
              "parent_msg_id": "cf3e209d-576b-4ad8-abcb-61856d117ef4",
              "queued_time": "2023-10-17T03:59:11.8022224Z",
              "session_id": "14",
              "session_start_time": null,
              "spark_jobs": {
                "jobs": [],
                "limit": 20,
                "numbers": {
                  "FAILED": 0,
                  "RUNNING": 0,
                  "SUCCEEDED": 0,
                  "UNKNOWN": 0
                },
                "rule": "ALL_DESC"
              },
              "spark_pool": "70d4139e-3496-47df-9fd8-bcdeb57818f4",
              "state": "finished",
              "statement_id": 19
            },
            "text/plain": [
              "StatementMeta(70d4139e-3496-47df-9fd8-bcdeb57818f4, 14, 19, Finished, Available)"
            ]
          },
          "metadata": {},
          "output_type": "display_data"
        }
      ],
      "source": [
        "#convert passenger_count and RatecodeID to 'int'\n",
        "taxi_df = taxi_df.withColumn(\"passenger_count\", col(\"passenger_count\").cast(\"int\"))\n",
        "taxi_df = taxi_df.withColumn(\"RatecodeID\", col(\"RatecodeID\").cast(\"int\"))"
      ]
    },
    {
      "cell_type": "code",
      "execution_count": 15,
      "metadata": {
        "gather": {
          "logged": 1697515775145
        },
        "jupyter": {
          "outputs_hidden": false,
          "source_hidden": false
        },
        "nteract": {
          "transient": {
            "deleting": false
          }
        }
      },
      "outputs": [
        {
          "data": {
            "application/vnd.livy.statement-meta+json": {
              "execution_finish_time": "2023-10-17T04:09:35.088363Z",
              "execution_start_time": "2023-10-17T04:09:34.1482458Z",
              "livy_statement_state": "available",
              "parent_msg_id": "d8f7cc9d-0b34-48db-8f7f-81a0191bc103",
              "queued_time": "2023-10-17T03:59:11.8030386Z",
              "session_id": "14",
              "session_start_time": null,
              "spark_jobs": {
                "jobs": [],
                "limit": 20,
                "numbers": {
                  "FAILED": 0,
                  "RUNNING": 0,
                  "SUCCEEDED": 0,
                  "UNKNOWN": 0
                },
                "rule": "ALL_DESC"
              },
              "spark_pool": "70d4139e-3496-47df-9fd8-bcdeb57818f4",
              "state": "finished",
              "statement_id": 20
            },
            "text/plain": [
              "StatementMeta(70d4139e-3496-47df-9fd8-bcdeb57818f4, 14, 20, Finished, Available)"
            ]
          },
          "metadata": {},
          "output_type": "display_data"
        }
      ],
      "source": [
        "#convert other numeric values to 'float'\n",
        "float_fields = [\"trip_distance\", \"pickup_longitude\", \"pickup_latitude\", \"dropoff_longitude\", \n",
        "                \"dropoff_latitude\", \"fare_amount\", \"extra\", \"mta_tax\", \"tip_amount\", \n",
        "                \"tolls_amount\", \"improvement_surcharge\", \"total_amount\"]\n",
        "\n",
        "for field in float_fields:\n",
        "    taxi_df = taxi_df.withColumn(field, col(field).cast(\"float\"))"
      ]
    },
    {
      "cell_type": "code",
      "execution_count": 16,
      "metadata": {
        "gather": {
          "logged": 1697515775601
        },
        "jupyter": {
          "outputs_hidden": false,
          "source_hidden": false
        },
        "nteract": {
          "transient": {
            "deleting": false
          }
        }
      },
      "outputs": [
        {
          "data": {
            "application/vnd.livy.statement-meta+json": {
              "execution_finish_time": "2023-10-17T04:09:35.5448673Z",
              "execution_start_time": "2023-10-17T04:09:35.1801938Z",
              "livy_statement_state": "available",
              "parent_msg_id": "07ca9ba3-7830-4a83-a736-6ec5bd5ceb98",
              "queued_time": "2023-10-17T03:59:11.8039853Z",
              "session_id": "14",
              "session_start_time": null,
              "spark_jobs": {
                "jobs": [],
                "limit": 20,
                "numbers": {
                  "FAILED": 0,
                  "RUNNING": 0,
                  "SUCCEEDED": 0,
                  "UNKNOWN": 0
                },
                "rule": "ALL_DESC"
              },
              "spark_pool": "70d4139e-3496-47df-9fd8-bcdeb57818f4",
              "state": "finished",
              "statement_id": 21
            },
            "text/plain": [
              "StatementMeta(70d4139e-3496-47df-9fd8-bcdeb57818f4, 14, 21, Finished, Available)"
            ]
          },
          "metadata": {},
          "output_type": "display_data"
        },
        {
          "name": "stdout",
          "output_type": "stream",
          "text": [
            "root\n",
            " |-- VendorID: string (nullable = true)\n",
            " |-- tpep_pickup_datetime: timestamp (nullable = true)\n",
            " |-- tpep_dropoff_datetime: timestamp (nullable = true)\n",
            " |-- passenger_count: integer (nullable = true)\n",
            " |-- trip_distance: float (nullable = true)\n",
            " |-- pickup_longitude: float (nullable = true)\n",
            " |-- pickup_latitude: float (nullable = true)\n",
            " |-- RatecodeID: integer (nullable = true)\n",
            " |-- store_and_fwd_flag: string (nullable = true)\n",
            " |-- dropoff_longitude: float (nullable = true)\n",
            " |-- dropoff_latitude: float (nullable = true)\n",
            " |-- payment_type: string (nullable = true)\n",
            " |-- fare_amount: float (nullable = true)\n",
            " |-- extra: float (nullable = true)\n",
            " |-- mta_tax: float (nullable = true)\n",
            " |-- tip_amount: float (nullable = true)\n",
            " |-- tolls_amount: float (nullable = true)\n",
            " |-- improvement_surcharge: float (nullable = true)\n",
            " |-- total_amount: float (nullable = true)\n",
            "\n"
          ]
        }
      ],
      "source": [
        "taxi_df.printSchema()"
      ]
    },
    {
      "cell_type": "code",
      "execution_count": 17,
      "metadata": {
        "gather": {
          "logged": 1697515776660
        },
        "jupyter": {
          "outputs_hidden": false,
          "source_hidden": false
        },
        "nteract": {
          "transient": {
            "deleting": false
          }
        }
      },
      "outputs": [
        {
          "data": {
            "application/vnd.livy.statement-meta+json": {
              "execution_finish_time": "2023-10-17T04:09:36.5537222Z",
              "execution_start_time": "2023-10-17T04:09:35.6204916Z",
              "livy_statement_state": "available",
              "parent_msg_id": "dcef1be6-e792-47d6-8309-644afb66747a",
              "queued_time": "2023-10-17T03:59:11.8048356Z",
              "session_id": "14",
              "session_start_time": null,
              "spark_jobs": {
                "jobs": [
                  {
                    "completionTime": "2023-10-17T04:09:36.149GMT",
                    "dataRead": 107735088,
                    "dataWritten": 0,
                    "description": "Job group for statement 22:\ntaxi_df.show(5)",
                    "displayName": "showString at NativeMethodAccessorImpl.java:0",
                    "jobGroup": "22",
                    "jobId": 6,
                    "killedTasksSummary": {},
                    "name": "showString at NativeMethodAccessorImpl.java:0",
                    "numActiveStages": 0,
                    "numActiveTasks": 0,
                    "numCompletedIndices": 1,
                    "numCompletedStages": 1,
                    "numCompletedTasks": 1,
                    "numFailedStages": 0,
                    "numFailedTasks": 0,
                    "numKilledTasks": 0,
                    "numSkippedStages": 0,
                    "numSkippedTasks": 0,
                    "numTasks": 1,
                    "rowCount": 1,
                    "stageIds": [
                      8
                    ],
                    "status": "SUCCEEDED",
                    "submissionTime": "2023-10-17T04:09:35.917GMT",
                    "usageDescription": ""
                  }
                ],
                "limit": 20,
                "numbers": {
                  "FAILED": 0,
                  "RUNNING": 0,
                  "SUCCEEDED": 1,
                  "UNKNOWN": 0
                },
                "rule": "ALL_DESC"
              },
              "spark_pool": "70d4139e-3496-47df-9fd8-bcdeb57818f4",
              "state": "finished",
              "statement_id": 22
            },
            "text/plain": [
              "StatementMeta(70d4139e-3496-47df-9fd8-bcdeb57818f4, 14, 22, Finished, Available)"
            ]
          },
          "metadata": {},
          "output_type": "display_data"
        },
        {
          "name": "stdout",
          "output_type": "stream",
          "text": [
            "+--------+--------------------+---------------------+---------------+-------------+----------------+---------------+----------+------------------+-----------------+----------------+------------+-----------+-----+-------+----------+------------+---------------------+------------+\n",
            "|VendorID|tpep_pickup_datetime|tpep_dropoff_datetime|passenger_count|trip_distance|pickup_longitude|pickup_latitude|RatecodeID|store_and_fwd_flag|dropoff_longitude|dropoff_latitude|payment_type|fare_amount|extra|mta_tax|tip_amount|tolls_amount|improvement_surcharge|total_amount|\n",
            "+--------+--------------------+---------------------+---------------+-------------+----------------+---------------+----------+------------------+-----------------+----------------+------------+-----------+-----+-------+----------+------------+---------------------+------------+\n",
            "|       2| 2015-01-15 19:05:39|  2015-01-15 19:23:42|              1|         1.59|        -73.9939|       40.75011|         1|                 N|       -73.974785|       40.750618|           1|       12.0|  1.0|    0.5|      3.25|         0.0|                  0.3|       17.05|\n",
            "|       1| 2015-01-10 20:33:38|  2015-01-10 20:53:28|              1|          3.3|       -74.00165|      40.724243|         1|                 N|       -73.994415|        40.75911|           1|       14.5|  0.5|    0.5|       2.0|         0.0|                  0.3|        17.8|\n",
            "|       1| 2015-01-10 20:33:38|  2015-01-10 20:43:41|              1|          1.8|       -73.96334|      40.802788|         1|                 N|        -73.95182|       40.824413|           2|        9.5|  0.5|    0.5|       0.0|         0.0|                  0.3|        10.8|\n",
            "|       1| 2015-01-10 20:33:39|  2015-01-10 20:35:31|              1|          0.5|       -74.00909|      40.713818|         1|                 N|       -74.004326|       40.719986|           2|        3.5|  0.5|    0.5|       0.0|         0.0|                  0.3|         4.8|\n",
            "|       1| 2015-01-10 20:33:39|  2015-01-10 20:52:58|              1|          3.0|      -73.971176|       40.76243|         1|                 N|        -74.00418|       40.742653|           2|       15.0|  0.5|    0.5|       0.0|         0.0|                  0.3|        16.3|\n",
            "+--------+--------------------+---------------------+---------------+-------------+----------------+---------------+----------+------------------+-----------------+----------------+------------+-----------+-----+-------+----------+------------+---------------------+------------+\n",
            "only showing top 5 rows\n",
            "\n"
          ]
        }
      ],
      "source": [
        "taxi_df.show(5)"
      ]
    },
    {
      "attachments": {},
      "cell_type": "markdown",
      "metadata": {},
      "source": [
        "### Step 4: Create new variables\n",
        "\n",
        "Reminder that using a small dataframe for testing will help you develop your analytics faster."
      ]
    },
    {
      "cell_type": "code",
      "execution_count": 18,
      "metadata": {
        "gather": {
          "logged": 1697515777071
        }
      },
      "outputs": [
        {
          "data": {
            "application/vnd.livy.statement-meta+json": {
              "execution_finish_time": "2023-10-17T04:09:37.0041462Z",
              "execution_start_time": "2023-10-17T04:09:36.6362533Z",
              "livy_statement_state": "available",
              "parent_msg_id": "bd3ca5a5-0a9b-49e2-ae48-edb1194f7a20",
              "queued_time": "2023-10-17T03:59:11.8056967Z",
              "session_id": "14",
              "session_start_time": null,
              "spark_jobs": {
                "jobs": [],
                "limit": 20,
                "numbers": {
                  "FAILED": 0,
                  "RUNNING": 0,
                  "SUCCEEDED": 0,
                  "UNKNOWN": 0
                },
                "rule": "ALL_DESC"
              },
              "spark_pool": "70d4139e-3496-47df-9fd8-bcdeb57818f4",
              "state": "finished",
              "statement_id": 23
            },
            "text/plain": [
              "StatementMeta(70d4139e-3496-47df-9fd8-bcdeb57818f4, 14, 23, Finished, Available)"
            ]
          },
          "metadata": {},
          "output_type": "display_data"
        }
      ],
      "source": [
        "from pyspark.sql.functions import col, dayofweek, hour, minute, expr\n",
        "#set conditiosn to is_weekend, 1 is Sunday, and 7 is Saturday\n",
        "taxi_df = taxi_df.withColumn(\"is_weekend\", \n",
        "                             (dayofweek(col(\"tpep_pickup_datetime\")) == 1) | \n",
        "                             (dayofweek(col(\"tpep_pickup_datetime\")) == 7))"
      ]
    },
    {
      "cell_type": "code",
      "execution_count": 19,
      "metadata": {
        "gather": {
          "logged": 1697515777522
        },
        "jupyter": {
          "outputs_hidden": false,
          "source_hidden": false
        },
        "nteract": {
          "transient": {
            "deleting": false
          }
        }
      },
      "outputs": [
        {
          "data": {
            "application/vnd.livy.statement-meta+json": {
              "execution_finish_time": "2023-10-17T04:09:37.4457386Z",
              "execution_start_time": "2023-10-17T04:09:37.0947602Z",
              "livy_statement_state": "available",
              "parent_msg_id": "ceaba8db-ea31-46a4-ac00-978f03f84bd2",
              "queued_time": "2023-10-17T03:59:11.8065747Z",
              "session_id": "14",
              "session_start_time": null,
              "spark_jobs": {
                "jobs": [],
                "limit": 20,
                "numbers": {
                  "FAILED": 0,
                  "RUNNING": 0,
                  "SUCCEEDED": 0,
                  "UNKNOWN": 0
                },
                "rule": "ALL_DESC"
              },
              "spark_pool": "70d4139e-3496-47df-9fd8-bcdeb57818f4",
              "state": "finished",
              "statement_id": 24
            },
            "text/plain": [
              "StatementMeta(70d4139e-3496-47df-9fd8-bcdeb57818f4, 14, 24, Finished, Available)"
            ]
          },
          "metadata": {},
          "output_type": "display_data"
        }
      ],
      "source": [
        "#set conditions to rush hour\n",
        "taxi_df = taxi_df.withColumn(\"is_rush_hour\", \n",
        "                             (dayofweek(col(\"tpep_pickup_datetime\")).between(2, 6)) & \n",
        "                             (((hour(col(\"tpep_pickup_datetime\")) >= 6) & \n",
        "                               (hour(col(\"tpep_pickup_datetime\")) < 10)) | \n",
        "                              ((hour(col(\"tpep_pickup_datetime\")) >= 14) & \n",
        "                               (hour(col(\"tpep_pickup_datetime\")) < 18))))"
      ]
    },
    {
      "cell_type": "code",
      "execution_count": 20,
      "metadata": {
        "gather": {
          "logged": 1697515777985
        },
        "jupyter": {
          "outputs_hidden": false,
          "source_hidden": false
        },
        "nteract": {
          "transient": {
            "deleting": false
          }
        }
      },
      "outputs": [
        {
          "data": {
            "application/vnd.livy.statement-meta+json": {
              "execution_finish_time": "2023-10-17T04:09:37.9308651Z",
              "execution_start_time": "2023-10-17T04:09:37.5170871Z",
              "livy_statement_state": "available",
              "parent_msg_id": "a33efb1b-4389-4ff0-a900-4b45598ce01c",
              "queued_time": "2023-10-17T03:59:11.807472Z",
              "session_id": "14",
              "session_start_time": null,
              "spark_jobs": {
                "jobs": [],
                "limit": 20,
                "numbers": {
                  "FAILED": 0,
                  "RUNNING": 0,
                  "SUCCEEDED": 0,
                  "UNKNOWN": 0
                },
                "rule": "ALL_DESC"
              },
              "spark_pool": "70d4139e-3496-47df-9fd8-bcdeb57818f4",
              "state": "finished",
              "statement_id": 25
            },
            "text/plain": [
              "StatementMeta(70d4139e-3496-47df-9fd8-bcdeb57818f4, 14, 25, Finished, Available)"
            ]
          },
          "metadata": {},
          "output_type": "display_data"
        }
      ],
      "source": [
        "#set conditions for tip amount\n",
        "taxi_df = taxi_df.withColumn(\"is_tip_gt_10pct\", \n",
        "                             col(\"tip_amount\") > col(\"fare_amount\") * 0.1)"
      ]
    },
    {
      "cell_type": "code",
      "execution_count": 21,
      "metadata": {
        "gather": {
          "logged": 1697515779116
        }
      },
      "outputs": [
        {
          "data": {
            "application/vnd.livy.statement-meta+json": {
              "execution_finish_time": "2023-10-17T04:09:39.0096201Z",
              "execution_start_time": "2023-10-17T04:09:38.0205621Z",
              "livy_statement_state": "available",
              "parent_msg_id": "4337018b-c360-466e-9562-22a39ea98275",
              "queued_time": "2023-10-17T03:59:11.8083865Z",
              "session_id": "14",
              "session_start_time": null,
              "spark_jobs": {
                "jobs": [
                  {
                    "completionTime": "2023-10-17T04:09:38.505GMT",
                    "dataRead": 107735088,
                    "dataWritten": 0,
                    "description": "Job group for statement 26:\ntaxi_df.show(5)",
                    "displayName": "showString at NativeMethodAccessorImpl.java:0",
                    "jobGroup": "26",
                    "jobId": 7,
                    "killedTasksSummary": {},
                    "name": "showString at NativeMethodAccessorImpl.java:0",
                    "numActiveStages": 0,
                    "numActiveTasks": 0,
                    "numCompletedIndices": 1,
                    "numCompletedStages": 1,
                    "numCompletedTasks": 1,
                    "numFailedStages": 0,
                    "numFailedTasks": 0,
                    "numKilledTasks": 0,
                    "numSkippedStages": 0,
                    "numSkippedTasks": 0,
                    "numTasks": 1,
                    "rowCount": 1,
                    "stageIds": [
                      9
                    ],
                    "status": "SUCCEEDED",
                    "submissionTime": "2023-10-17T04:09:38.323GMT",
                    "usageDescription": ""
                  }
                ],
                "limit": 20,
                "numbers": {
                  "FAILED": 0,
                  "RUNNING": 0,
                  "SUCCEEDED": 1,
                  "UNKNOWN": 0
                },
                "rule": "ALL_DESC"
              },
              "spark_pool": "70d4139e-3496-47df-9fd8-bcdeb57818f4",
              "state": "finished",
              "statement_id": 26
            },
            "text/plain": [
              "StatementMeta(70d4139e-3496-47df-9fd8-bcdeb57818f4, 14, 26, Finished, Available)"
            ]
          },
          "metadata": {},
          "output_type": "display_data"
        },
        {
          "name": "stdout",
          "output_type": "stream",
          "text": [
            "+--------+--------------------+---------------------+---------------+-------------+----------------+---------------+----------+------------------+-----------------+----------------+------------+-----------+-----+-------+----------+------------+---------------------+------------+----------+------------+---------------+\n",
            "|VendorID|tpep_pickup_datetime|tpep_dropoff_datetime|passenger_count|trip_distance|pickup_longitude|pickup_latitude|RatecodeID|store_and_fwd_flag|dropoff_longitude|dropoff_latitude|payment_type|fare_amount|extra|mta_tax|tip_amount|tolls_amount|improvement_surcharge|total_amount|is_weekend|is_rush_hour|is_tip_gt_10pct|\n",
            "+--------+--------------------+---------------------+---------------+-------------+----------------+---------------+----------+------------------+-----------------+----------------+------------+-----------+-----+-------+----------+------------+---------------------+------------+----------+------------+---------------+\n",
            "|       2| 2015-01-15 19:05:39|  2015-01-15 19:23:42|              1|         1.59|        -73.9939|       40.75011|         1|                 N|       -73.974785|       40.750618|           1|       12.0|  1.0|    0.5|      3.25|         0.0|                  0.3|       17.05|     false|       false|           true|\n",
            "|       1| 2015-01-10 20:33:38|  2015-01-10 20:53:28|              1|          3.3|       -74.00165|      40.724243|         1|                 N|       -73.994415|        40.75911|           1|       14.5|  0.5|    0.5|       2.0|         0.0|                  0.3|        17.8|      true|       false|           true|\n",
            "|       1| 2015-01-10 20:33:38|  2015-01-10 20:43:41|              1|          1.8|       -73.96334|      40.802788|         1|                 N|        -73.95182|       40.824413|           2|        9.5|  0.5|    0.5|       0.0|         0.0|                  0.3|        10.8|      true|       false|          false|\n",
            "|       1| 2015-01-10 20:33:39|  2015-01-10 20:35:31|              1|          0.5|       -74.00909|      40.713818|         1|                 N|       -74.004326|       40.719986|           2|        3.5|  0.5|    0.5|       0.0|         0.0|                  0.3|         4.8|      true|       false|          false|\n",
            "|       1| 2015-01-10 20:33:39|  2015-01-10 20:52:58|              1|          3.0|      -73.971176|       40.76243|         1|                 N|        -74.00418|       40.742653|           2|       15.0|  0.5|    0.5|       0.0|         0.0|                  0.3|        16.3|      true|       false|          false|\n",
            "+--------+--------------------+---------------------+---------------+-------------+----------------+---------------+----------+------------------+-----------------+----------------+------------+-----------+-----+-------+----------+------------+---------------------+------------+----------+------------+---------------+\n",
            "only showing top 5 rows\n",
            "\n"
          ]
        }
      ],
      "source": [
        "taxi_df.show(5)"
      ]
    },
    {
      "attachments": {},
      "cell_type": "markdown",
      "metadata": {},
      "source": [
        "### Step 5: Analytics"
      ]
    },
    {
      "cell_type": "code",
      "execution_count": 22,
      "metadata": {
        "gather": {
          "logged": 1697515780063
        },
        "jupyter": {
          "outputs_hidden": false,
          "source_hidden": false
        },
        "nteract": {
          "transient": {
            "deleting": false
          }
        }
      },
      "outputs": [
        {
          "data": {
            "application/vnd.livy.statement-meta+json": {
              "execution_finish_time": "2023-10-17T04:09:40.0075459Z",
              "execution_start_time": "2023-10-17T04:09:39.0975033Z",
              "livy_statement_state": "available",
              "parent_msg_id": "8af56fa4-3cb3-4fdc-aebc-a4634708726f",
              "queued_time": "2023-10-17T03:59:11.8093452Z",
              "session_id": "14",
              "session_start_time": null,
              "spark_jobs": {
                "jobs": [],
                "limit": 20,
                "numbers": {
                  "FAILED": 0,
                  "RUNNING": 0,
                  "SUCCEEDED": 0,
                  "UNKNOWN": 0
                },
                "rule": "ALL_DESC"
              },
              "spark_pool": "70d4139e-3496-47df-9fd8-bcdeb57818f4",
              "state": "finished",
              "statement_id": 27
            },
            "text/plain": [
              "StatementMeta(70d4139e-3496-47df-9fd8-bcdeb57818f4, 14, 27, Finished, Available)"
            ]
          },
          "metadata": {},
          "output_type": "display_data"
        }
      ],
      "source": [
        "from pyspark.sql import functions as f\n",
        "#compute necessary info for weekend condition\n",
        "#I avoided using 'lit' to control approximation accuracy, as it could increase memory usage, potentially leading to longer running times.\n",
        "df_weekend = taxi_df.groupBy(\"is_weekend\").agg(\n",
        "    f.mean('fare_amount').alias('mean_fare'),\n",
        "    f.expr('percentile_approx(fare_amount, 0.25)').alias('Q25'),\n",
        "    f.expr('percentile_approx(fare_amount, 0.5)').alias('median'),\n",
        "    f.expr('percentile_approx(fare_amount, 0.75)').alias('Q75'),\n",
        "    f.count('*').alias('num_rides')\n",
        ").withColumnRenamed(\"is_weekend\", 'weekdayrush_dummy')"
      ]
    },
    {
      "cell_type": "code",
      "execution_count": 23,
      "metadata": {
        "gather": {
          "logged": 1697515780555
        },
        "jupyter": {
          "outputs_hidden": false,
          "source_hidden": false
        },
        "nteract": {
          "transient": {
            "deleting": false
          }
        }
      },
      "outputs": [
        {
          "data": {
            "application/vnd.livy.statement-meta+json": {
              "execution_finish_time": "2023-10-17T04:09:40.4741561Z",
              "execution_start_time": "2023-10-17T04:09:40.0996119Z",
              "livy_statement_state": "available",
              "parent_msg_id": "6546c1e0-a522-4218-bb28-2f35281d3698",
              "queued_time": "2023-10-17T03:59:11.8102951Z",
              "session_id": "14",
              "session_start_time": null,
              "spark_jobs": {
                "jobs": [],
                "limit": 20,
                "numbers": {
                  "FAILED": 0,
                  "RUNNING": 0,
                  "SUCCEEDED": 0,
                  "UNKNOWN": 0
                },
                "rule": "ALL_DESC"
              },
              "spark_pool": "70d4139e-3496-47df-9fd8-bcdeb57818f4",
              "state": "finished",
              "statement_id": 28
            },
            "text/plain": [
              "StatementMeta(70d4139e-3496-47df-9fd8-bcdeb57818f4, 14, 28, Finished, Available)"
            ]
          },
          "metadata": {},
          "output_type": "display_data"
        }
      ],
      "source": [
        "#compute necessary info for the rush hour condition\n",
        "df_rushhour = taxi_df.groupBy(\"is_rush_hour\").agg(\n",
        "    f.mean('fare_amount').alias('mean_fare'),\n",
        "    f.expr('percentile_approx(fare_amount, 0.25)').alias('Q25'),\n",
        "    f.expr('percentile_approx(fare_amount, 0.5)').alias('median'),\n",
        "    f.expr('percentile_approx(fare_amount, 0.75)').alias('Q75'),\n",
        "    f.count('*').alias('num_rides')\n",
        ").withColumnRenamed(\"is_rush_hour\", 'rushhour_dummy')"
      ]
    },
    {
      "cell_type": "code",
      "execution_count": 24,
      "metadata": {
        "gather": {
          "logged": 1697515781062
        },
        "jupyter": {
          "outputs_hidden": false,
          "source_hidden": false
        },
        "nteract": {
          "transient": {
            "deleting": false
          }
        }
      },
      "outputs": [
        {
          "data": {
            "application/vnd.livy.statement-meta+json": {
              "execution_finish_time": "2023-10-17T04:09:40.9457272Z",
              "execution_start_time": "2023-10-17T04:09:40.5449503Z",
              "livy_statement_state": "available",
              "parent_msg_id": "405e2a69-51a8-442c-890f-8cd06ba03586",
              "queued_time": "2023-10-17T03:59:11.8112609Z",
              "session_id": "14",
              "session_start_time": null,
              "spark_jobs": {
                "jobs": [],
                "limit": 20,
                "numbers": {
                  "FAILED": 0,
                  "RUNNING": 0,
                  "SUCCEEDED": 0,
                  "UNKNOWN": 0
                },
                "rule": "ALL_DESC"
              },
              "spark_pool": "70d4139e-3496-47df-9fd8-bcdeb57818f4",
              "state": "finished",
              "statement_id": 29
            },
            "text/plain": [
              "StatementMeta(70d4139e-3496-47df-9fd8-bcdeb57818f4, 14, 29, Finished, Available)"
            ]
          },
          "metadata": {},
          "output_type": "display_data"
        }
      ],
      "source": [
        "#compute necessary info for the tip condition\n",
        "df_tip = taxi_df.groupBy(\"is_tip_gt_10pct\").agg(\n",
        "    f.mean('fare_amount').alias('mean_fare'),\n",
        "    f.expr('percentile_approx(fare_amount, 0.25)').alias('Q25'),\n",
        "    f.expr('percentile_approx(fare_amount, 0.5)').alias('median'),\n",
        "    f.expr('percentile_approx(fare_amount, 0.75)').alias('Q75'),\n",
        "    f.count('*').alias('num_rides')\n",
        ").withColumnRenamed(\"is_tip_gt_10pct\", 'tip_dummy')"
      ]
    },
    {
      "cell_type": "code",
      "execution_count": null,
      "metadata": {
        "gather": {
          "logged": 1697516567746
        },
        "jupyter": {
          "outputs_hidden": false,
          "source_hidden": false
        },
        "nteract": {
          "transient": {
            "deleting": false
          }
        }
      },
      "outputs": [],
      "source": [
        "#change to pd and check result\n",
        "pd_weekend = df_weekend.toPandas()\n",
        "pd_rushhour = df_rushhour.toPandas()\n",
        "pd_tip = df_tip.toPandas()"
      ]
    },
    {
      "cell_type": "code",
      "execution_count": 28,
      "metadata": {
        "gather": {
          "logged": 1697517075319
        },
        "jupyter": {
          "outputs_hidden": false,
          "source_hidden": false
        },
        "nteract": {
          "transient": {
            "deleting": false
          }
        }
      },
      "outputs": [
        {
          "data": {
            "application/vnd.livy.statement-meta+json": {
              "execution_finish_time": "2023-10-17T04:31:15.1975428Z",
              "execution_start_time": "2023-10-17T04:31:14.8295165Z",
              "livy_statement_state": "available",
              "parent_msg_id": "587db474-f0fe-420d-8c49-723426e670a5",
              "queued_time": "2023-10-17T04:31:14.7406846Z",
              "session_id": "14",
              "session_start_time": null,
              "spark_jobs": {
                "jobs": [],
                "limit": 20,
                "numbers": {
                  "FAILED": 0,
                  "RUNNING": 0,
                  "SUCCEEDED": 0,
                  "UNKNOWN": 0
                },
                "rule": "ALL_DESC"
              },
              "spark_pool": "70d4139e-3496-47df-9fd8-bcdeb57818f4",
              "state": "finished",
              "statement_id": 33
            },
            "text/plain": [
              "StatementMeta(70d4139e-3496-47df-9fd8-bcdeb57818f4, 14, 33, Finished, Available)"
            ]
          },
          "metadata": {},
          "output_type": "display_data"
        },
        {
          "name": "stdout",
          "output_type": "stream",
          "text": [
            "Weekend Data:\n",
            "    weekdayrush_dummy  mean_fare  Q25  median   Q75  num_rides\n",
            "0               True  12.683451  6.5     9.5  14.5   42391513\n",
            "1              False  13.042870  6.5     9.5  15.0  103680034 \n",
            "\n",
            "Rush Hour Data:\n",
            "    rushhour_dummy  mean_fare  Q25  median   Q75  num_rides\n",
            "0            True  13.120276  6.5     9.5  14.5   37963857\n",
            "1           False  12.874751  6.5     9.5  15.0  108107690 \n",
            "\n",
            "Tip Data:\n",
            "    tip_dummy  mean_fare  Q25  median   Q75  num_rides\n",
            "0       True  13.085738  7.0     9.5  15.0   82876509\n",
            "1      False  12.745550  6.5     9.5  14.5   63195038 \n",
            "\n"
          ]
        }
      ],
      "source": [
        "print(\"Weekend Data:\\n\", pd_weekend, \"\\n\")\n",
        "print(\"Rush Hour Data:\\n\", pd_rushhour, \"\\n\")\n",
        "print(\"Tip Data:\\n\", pd_tip, \"\\n\")"
      ]
    },
    {
      "cell_type": "code",
      "execution_count": 26,
      "metadata": {
        "gather": {
          "logged": 1697516568125
        },
        "jupyter": {
          "outputs_hidden": false,
          "source_hidden": false
        },
        "nteract": {
          "transient": {
            "deleting": false
          }
        }
      },
      "outputs": [
        {
          "data": {
            "application/vnd.livy.statement-meta+json": {
              "execution_finish_time": "2023-10-17T04:22:48.057372Z",
              "execution_start_time": "2023-10-17T04:22:47.7242498Z",
              "livy_statement_state": "available",
              "parent_msg_id": "6a91bce7-bc8c-4acc-b347-82e0ecc31fdb",
              "queued_time": "2023-10-17T03:59:11.8132627Z",
              "session_id": "14",
              "session_start_time": null,
              "spark_jobs": {
                "jobs": [],
                "limit": 20,
                "numbers": {
                  "FAILED": 0,
                  "RUNNING": 0,
                  "SUCCEEDED": 0,
                  "UNKNOWN": 0
                },
                "rule": "ALL_DESC"
              },
              "spark_pool": "70d4139e-3496-47df-9fd8-bcdeb57818f4",
              "state": "finished",
              "statement_id": 31
            },
            "text/plain": [
              "StatementMeta(70d4139e-3496-47df-9fd8-bcdeb57818f4, 14, 31, Finished, Available)"
            ]
          },
          "metadata": {},
          "output_type": "display_data"
        }
      ],
      "source": [
        "#we need to make our result looks like the example in readme file on github\n",
        "necessary_columns = ['mean_fare', 'Q25', 'median', 'Q75', 'num_rides']\n",
        "df_weekend = pd_weekend[necessary_columns].rename(columns={'median': 'Q50'})\n",
        "df_rushhour = pd_rushhour[necessary_columns].rename(columns={'median': 'Q50'})\n",
        "df_tip = pd_tip[necessary_columns].rename(columns={'median': 'Q50'})"
      ]
    },
    {
      "attachments": {},
      "cell_type": "markdown",
      "metadata": {},
      "source": [
        "## **Save your analytics results to a json object - then add, commit, and push your notebook and json to GitHub!**"
      ]
    },
    {
      "cell_type": "markdown",
      "metadata": {
        "nteract": {
          "transient": {
            "deleting": false
          }
        }
      },
      "source": [
        "Remember that the default path on the Serverless Spark compute **is not the same as the compute instance.** When you start a Jupyter notebook from within the Serverless Spark, the working directory of the Python notebook is `/synfs/notebook/1/aml_notebook_mount`. **This is not within the repo directory.** To save a file from the Python notebook within your repository, you will have to add a prefix to the path in the form of: `Users/<YOUR-NET-ID>/<REPO-NAME>/filename.fileextension`. "
      ]
    },
    {
      "cell_type": "code",
      "execution_count": 27,
      "metadata": {
        "gather": {
          "logged": 1697516569084
        }
      },
      "outputs": [
        {
          "data": {
            "application/vnd.livy.statement-meta+json": {
              "execution_finish_time": "2023-10-17T04:22:49.0143309Z",
              "execution_start_time": "2023-10-17T04:22:48.1304978Z",
              "livy_statement_state": "available",
              "parent_msg_id": "3bc90586-3c28-459b-8b9f-c91734deb2ac",
              "queued_time": "2023-10-17T03:59:11.8142839Z",
              "session_id": "14",
              "session_start_time": null,
              "spark_jobs": {
                "jobs": [],
                "limit": 20,
                "numbers": {
                  "FAILED": 0,
                  "RUNNING": 0,
                  "SUCCEEDED": 0,
                  "UNKNOWN": 0
                },
                "rule": "ALL_DESC"
              },
              "spark_pool": "70d4139e-3496-47df-9fd8-bcdeb57818f4",
              "state": "finished",
              "statement_id": 32
            },
            "text/plain": [
              "StatementMeta(70d4139e-3496-47df-9fd8-bcdeb57818f4, 14, 32, Finished, Available)"
            ]
          },
          "metadata": {},
          "output_type": "display_data"
        }
      ],
      "source": [
        "import json\n",
        "json.dump({'weekend' : df_weekend.to_dict(orient='records'),\n",
        "           'tip' : df_tip.to_dict(orient='records'),\n",
        "           'rushhour' : df_rushhour.to_dict('records')\n",
        "          }, \n",
        "          fp = open('taxi-soln.json','w'))"
      ]
    }
  ],
  "metadata": {
    "anaconda-cloud": {},
    "celltoolbar": "Raw Cell Format",
    "kernel_info": {
      "name": "synapse_pyspark"
    },
    "kernelspec": {
      "display_name": "Synapse PySpark",
      "language": "Python",
      "name": "synapse_pyspark"
    },
    "language_info": {
      "codemirror_mode": "ipython",
      "file_extension": ".py",
      "mimetype": "text/x-python",
      "name": "python",
      "nbconvert_exporter": "python",
      "pygments_lexer": "ipython",
      "version": "3.8.0"
    },
    "microsoft": {
      "host": {
        "AzureML": {
          "notebookHasBeenCompleted": true
        }
      },
      "ms_spell_check": {
        "ms_spell_check_language": "en"
      }
    },
    "nteract": {
      "version": "nteract-front-end@1.0.0"
    }
  },
  "nbformat": 4,
  "nbformat_minor": 4
}
